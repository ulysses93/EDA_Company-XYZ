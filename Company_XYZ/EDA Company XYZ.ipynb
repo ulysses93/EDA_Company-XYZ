{
 "cells": [
  {
   "cell_type": "code",
   "execution_count": 38,
   "metadata": {},
   "outputs": [],
   "source": [
    "#importing libraries\n",
    "import pandas as pd\n",
    "import glob\n",
    "import os"
   ]
  },
  {
   "cell_type": "code",
   "execution_count": 39,
   "metadata": {},
   "outputs": [],
   "source": [
    "# merging the files\n",
    "joined_files = os.path.join(r'C:\\Users\\AkinadeAbiodun\\Documents\\Data-Analysis-Project' , '*Branch.csv')"
   ]
  },
  {
   "cell_type": "code",
   "execution_count": 40,
   "metadata": {},
   "outputs": [],
   "source": [
    "# Returns a list of all joined files\n",
    "list_files = glob.glob(joined_files)"
   ]
  },
  {
   "cell_type": "code",
   "execution_count": 41,
   "metadata": {},
   "outputs": [
    {
     "data": {
      "text/plain": [
       "['C:\\\\Users\\\\AkinadeAbiodun\\\\Documents\\\\Data-Analysis-Project\\\\Abuja_Branch.csv',\n",
       " 'C:\\\\Users\\\\AkinadeAbiodun\\\\Documents\\\\Data-Analysis-Project\\\\Lagos_Branch.csv',\n",
       " 'C:\\\\Users\\\\AkinadeAbiodun\\\\Documents\\\\Data-Analysis-Project\\\\Port_Harcourt_Branch.csv']"
      ]
     },
     "execution_count": 41,
     "metadata": {},
     "output_type": "execute_result"
    }
   ],
   "source": [
    "list_files"
   ]
  },
  {
   "cell_type": "code",
   "execution_count": 42,
   "metadata": {},
   "outputs": [
    {
     "name": "stdout",
     "output_type": "stream",
     "text": [
      "      Invoice ID Branch           City Customer type  Gender  \\\n",
      "0    692-92-5582      B          Abuja        Member  Female   \n",
      "1    351-62-0822      B          Abuja        Member  Female   \n",
      "2    529-56-3974      B          Abuja        Member    Male   \n",
      "3    299-46-1805      B          Abuja        Member  Female   \n",
      "4    319-50-3348      B          Abuja        Normal  Female   \n",
      "..           ...    ...            ...           ...     ...   \n",
      "995  148-41-7930      C  Port Harcourt        Normal    Male   \n",
      "996  189-40-5216      C  Port Harcourt        Normal    Male   \n",
      "997  267-62-7380      C  Port Harcourt        Member    Male   \n",
      "998  652-49-6720      C  Port Harcourt        Member  Female   \n",
      "999  233-67-5758      C  Port Harcourt        Normal    Male   \n",
      "\n",
      "               Product line  Unit price  Quantity    Tax 5%      Total  \\\n",
      "0        Food and beverages     19742.4         3   2961.36   62188.56   \n",
      "1       Fashion accessories      5212.8         4   1042.56   21893.76   \n",
      "2    Electronic accessories      9183.6         4   1836.72   38571.12   \n",
      "3         Sports and travel     33739.2         6  10121.76  212556.96   \n",
      "4        Home and lifestyle     14508.0         2   1450.80   30466.80   \n",
      "..                      ...         ...       ...       ...        ...   \n",
      "995       Health and beauty     35985.6         7  12594.96  264494.16   \n",
      "996  Electronic accessories     34693.2         7  12142.62  254995.02   \n",
      "997  Electronic accessories     29642.4        10  14821.20  311245.20   \n",
      "998  Electronic accessories     21942.0         1   1097.10   23039.10   \n",
      "999       Health and beauty     14526.0         1    726.30   15252.30   \n",
      "\n",
      "          Date   Time Payment      cogs  gross margin percentage  \\\n",
      "0    2/20/2019  13:27    Card   59227.2                 4.761905   \n",
      "1     2/6/2019  18:07    Epay   20851.2                 4.761905   \n",
      "2     3/9/2019  17:03    Cash   36734.4                 4.761905   \n",
      "3    1/15/2019  16:19    Cash  202435.2                 4.761905   \n",
      "4    3/11/2019  15:30    Epay   29016.0                 4.761905   \n",
      "..         ...    ...     ...       ...                      ...   \n",
      "995  1/23/2019  10:33    Cash  251899.2                 4.761905   \n",
      "996   1/9/2019  11:40    Cash  242852.4                 4.761905   \n",
      "997  3/29/2019  19:12    Epay  296424.0                 4.761905   \n",
      "998  2/18/2019  11:40    Epay   21942.0                 4.761905   \n",
      "999  1/29/2019  13:46    Epay   14526.0                 4.761905   \n",
      "\n",
      "     gross income  Rating  \n",
      "0         2961.36     5.9  \n",
      "1         1042.56     4.5  \n",
      "2         1836.72     6.8  \n",
      "3        10121.76     4.5  \n",
      "4         1450.80     4.4  \n",
      "..            ...     ...  \n",
      "995      12594.96     6.1  \n",
      "996      12142.62     6.0  \n",
      "997      14821.20     4.3  \n",
      "998       1097.10     5.9  \n",
      "999        726.30     6.2  \n",
      "\n",
      "[1000 rows x 17 columns]\n"
     ]
    }
   ],
   "source": [
    "#joining all files\n",
    "df = pd.concat(map(pd.read_csv, list_files), ignore_index=True)\n",
    "print(df)"
   ]
  },
  {
   "cell_type": "code",
   "execution_count": 43,
   "metadata": {},
   "outputs": [
    {
     "data": {
      "text/html": [
       "<div>\n",
       "<style scoped>\n",
       "    .dataframe tbody tr th:only-of-type {\n",
       "        vertical-align: middle;\n",
       "    }\n",
       "\n",
       "    .dataframe tbody tr th {\n",
       "        vertical-align: top;\n",
       "    }\n",
       "\n",
       "    .dataframe thead th {\n",
       "        text-align: right;\n",
       "    }\n",
       "</style>\n",
       "<table border=\"1\" class=\"dataframe\">\n",
       "  <thead>\n",
       "    <tr style=\"text-align: right;\">\n",
       "      <th></th>\n",
       "      <th>Invoice ID</th>\n",
       "      <th>Branch</th>\n",
       "      <th>City</th>\n",
       "      <th>Customer type</th>\n",
       "      <th>Gender</th>\n",
       "      <th>Product line</th>\n",
       "      <th>Unit price</th>\n",
       "      <th>Quantity</th>\n",
       "      <th>Tax 5%</th>\n",
       "      <th>Total</th>\n",
       "      <th>Date</th>\n",
       "      <th>Time</th>\n",
       "      <th>Payment</th>\n",
       "      <th>cogs</th>\n",
       "      <th>gross margin percentage</th>\n",
       "      <th>gross income</th>\n",
       "      <th>Rating</th>\n",
       "    </tr>\n",
       "  </thead>\n",
       "  <tbody>\n",
       "    <tr>\n",
       "      <th>0</th>\n",
       "      <td>692-92-5582</td>\n",
       "      <td>B</td>\n",
       "      <td>Abuja</td>\n",
       "      <td>Member</td>\n",
       "      <td>Female</td>\n",
       "      <td>Food and beverages</td>\n",
       "      <td>19742.4</td>\n",
       "      <td>3</td>\n",
       "      <td>2961.36</td>\n",
       "      <td>62188.56</td>\n",
       "      <td>2/20/2019</td>\n",
       "      <td>13:27</td>\n",
       "      <td>Card</td>\n",
       "      <td>59227.2</td>\n",
       "      <td>4.761905</td>\n",
       "      <td>2961.36</td>\n",
       "      <td>5.9</td>\n",
       "    </tr>\n",
       "    <tr>\n",
       "      <th>1</th>\n",
       "      <td>351-62-0822</td>\n",
       "      <td>B</td>\n",
       "      <td>Abuja</td>\n",
       "      <td>Member</td>\n",
       "      <td>Female</td>\n",
       "      <td>Fashion accessories</td>\n",
       "      <td>5212.8</td>\n",
       "      <td>4</td>\n",
       "      <td>1042.56</td>\n",
       "      <td>21893.76</td>\n",
       "      <td>2/6/2019</td>\n",
       "      <td>18:07</td>\n",
       "      <td>Epay</td>\n",
       "      <td>20851.2</td>\n",
       "      <td>4.761905</td>\n",
       "      <td>1042.56</td>\n",
       "      <td>4.5</td>\n",
       "    </tr>\n",
       "    <tr>\n",
       "      <th>2</th>\n",
       "      <td>529-56-3974</td>\n",
       "      <td>B</td>\n",
       "      <td>Abuja</td>\n",
       "      <td>Member</td>\n",
       "      <td>Male</td>\n",
       "      <td>Electronic accessories</td>\n",
       "      <td>9183.6</td>\n",
       "      <td>4</td>\n",
       "      <td>1836.72</td>\n",
       "      <td>38571.12</td>\n",
       "      <td>3/9/2019</td>\n",
       "      <td>17:03</td>\n",
       "      <td>Cash</td>\n",
       "      <td>36734.4</td>\n",
       "      <td>4.761905</td>\n",
       "      <td>1836.72</td>\n",
       "      <td>6.8</td>\n",
       "    </tr>\n",
       "    <tr>\n",
       "      <th>3</th>\n",
       "      <td>299-46-1805</td>\n",
       "      <td>B</td>\n",
       "      <td>Abuja</td>\n",
       "      <td>Member</td>\n",
       "      <td>Female</td>\n",
       "      <td>Sports and travel</td>\n",
       "      <td>33739.2</td>\n",
       "      <td>6</td>\n",
       "      <td>10121.76</td>\n",
       "      <td>212556.96</td>\n",
       "      <td>1/15/2019</td>\n",
       "      <td>16:19</td>\n",
       "      <td>Cash</td>\n",
       "      <td>202435.2</td>\n",
       "      <td>4.761905</td>\n",
       "      <td>10121.76</td>\n",
       "      <td>4.5</td>\n",
       "    </tr>\n",
       "    <tr>\n",
       "      <th>4</th>\n",
       "      <td>319-50-3348</td>\n",
       "      <td>B</td>\n",
       "      <td>Abuja</td>\n",
       "      <td>Normal</td>\n",
       "      <td>Female</td>\n",
       "      <td>Home and lifestyle</td>\n",
       "      <td>14508.0</td>\n",
       "      <td>2</td>\n",
       "      <td>1450.80</td>\n",
       "      <td>30466.80</td>\n",
       "      <td>3/11/2019</td>\n",
       "      <td>15:30</td>\n",
       "      <td>Epay</td>\n",
       "      <td>29016.0</td>\n",
       "      <td>4.761905</td>\n",
       "      <td>1450.80</td>\n",
       "      <td>4.4</td>\n",
       "    </tr>\n",
       "    <tr>\n",
       "      <th>...</th>\n",
       "      <td>...</td>\n",
       "      <td>...</td>\n",
       "      <td>...</td>\n",
       "      <td>...</td>\n",
       "      <td>...</td>\n",
       "      <td>...</td>\n",
       "      <td>...</td>\n",
       "      <td>...</td>\n",
       "      <td>...</td>\n",
       "      <td>...</td>\n",
       "      <td>...</td>\n",
       "      <td>...</td>\n",
       "      <td>...</td>\n",
       "      <td>...</td>\n",
       "      <td>...</td>\n",
       "      <td>...</td>\n",
       "      <td>...</td>\n",
       "    </tr>\n",
       "    <tr>\n",
       "      <th>995</th>\n",
       "      <td>148-41-7930</td>\n",
       "      <td>C</td>\n",
       "      <td>Port Harcourt</td>\n",
       "      <td>Normal</td>\n",
       "      <td>Male</td>\n",
       "      <td>Health and beauty</td>\n",
       "      <td>35985.6</td>\n",
       "      <td>7</td>\n",
       "      <td>12594.96</td>\n",
       "      <td>264494.16</td>\n",
       "      <td>1/23/2019</td>\n",
       "      <td>10:33</td>\n",
       "      <td>Cash</td>\n",
       "      <td>251899.2</td>\n",
       "      <td>4.761905</td>\n",
       "      <td>12594.96</td>\n",
       "      <td>6.1</td>\n",
       "    </tr>\n",
       "    <tr>\n",
       "      <th>996</th>\n",
       "      <td>189-40-5216</td>\n",
       "      <td>C</td>\n",
       "      <td>Port Harcourt</td>\n",
       "      <td>Normal</td>\n",
       "      <td>Male</td>\n",
       "      <td>Electronic accessories</td>\n",
       "      <td>34693.2</td>\n",
       "      <td>7</td>\n",
       "      <td>12142.62</td>\n",
       "      <td>254995.02</td>\n",
       "      <td>1/9/2019</td>\n",
       "      <td>11:40</td>\n",
       "      <td>Cash</td>\n",
       "      <td>242852.4</td>\n",
       "      <td>4.761905</td>\n",
       "      <td>12142.62</td>\n",
       "      <td>6.0</td>\n",
       "    </tr>\n",
       "    <tr>\n",
       "      <th>997</th>\n",
       "      <td>267-62-7380</td>\n",
       "      <td>C</td>\n",
       "      <td>Port Harcourt</td>\n",
       "      <td>Member</td>\n",
       "      <td>Male</td>\n",
       "      <td>Electronic accessories</td>\n",
       "      <td>29642.4</td>\n",
       "      <td>10</td>\n",
       "      <td>14821.20</td>\n",
       "      <td>311245.20</td>\n",
       "      <td>3/29/2019</td>\n",
       "      <td>19:12</td>\n",
       "      <td>Epay</td>\n",
       "      <td>296424.0</td>\n",
       "      <td>4.761905</td>\n",
       "      <td>14821.20</td>\n",
       "      <td>4.3</td>\n",
       "    </tr>\n",
       "    <tr>\n",
       "      <th>998</th>\n",
       "      <td>652-49-6720</td>\n",
       "      <td>C</td>\n",
       "      <td>Port Harcourt</td>\n",
       "      <td>Member</td>\n",
       "      <td>Female</td>\n",
       "      <td>Electronic accessories</td>\n",
       "      <td>21942.0</td>\n",
       "      <td>1</td>\n",
       "      <td>1097.10</td>\n",
       "      <td>23039.10</td>\n",
       "      <td>2/18/2019</td>\n",
       "      <td>11:40</td>\n",
       "      <td>Epay</td>\n",
       "      <td>21942.0</td>\n",
       "      <td>4.761905</td>\n",
       "      <td>1097.10</td>\n",
       "      <td>5.9</td>\n",
       "    </tr>\n",
       "    <tr>\n",
       "      <th>999</th>\n",
       "      <td>233-67-5758</td>\n",
       "      <td>C</td>\n",
       "      <td>Port Harcourt</td>\n",
       "      <td>Normal</td>\n",
       "      <td>Male</td>\n",
       "      <td>Health and beauty</td>\n",
       "      <td>14526.0</td>\n",
       "      <td>1</td>\n",
       "      <td>726.30</td>\n",
       "      <td>15252.30</td>\n",
       "      <td>1/29/2019</td>\n",
       "      <td>13:46</td>\n",
       "      <td>Epay</td>\n",
       "      <td>14526.0</td>\n",
       "      <td>4.761905</td>\n",
       "      <td>726.30</td>\n",
       "      <td>6.2</td>\n",
       "    </tr>\n",
       "  </tbody>\n",
       "</table>\n",
       "<p>1000 rows × 17 columns</p>\n",
       "</div>"
      ],
      "text/plain": [
       "      Invoice ID Branch           City Customer type  Gender  \\\n",
       "0    692-92-5582      B          Abuja        Member  Female   \n",
       "1    351-62-0822      B          Abuja        Member  Female   \n",
       "2    529-56-3974      B          Abuja        Member    Male   \n",
       "3    299-46-1805      B          Abuja        Member  Female   \n",
       "4    319-50-3348      B          Abuja        Normal  Female   \n",
       "..           ...    ...            ...           ...     ...   \n",
       "995  148-41-7930      C  Port Harcourt        Normal    Male   \n",
       "996  189-40-5216      C  Port Harcourt        Normal    Male   \n",
       "997  267-62-7380      C  Port Harcourt        Member    Male   \n",
       "998  652-49-6720      C  Port Harcourt        Member  Female   \n",
       "999  233-67-5758      C  Port Harcourt        Normal    Male   \n",
       "\n",
       "               Product line  Unit price  Quantity    Tax 5%      Total  \\\n",
       "0        Food and beverages     19742.4         3   2961.36   62188.56   \n",
       "1       Fashion accessories      5212.8         4   1042.56   21893.76   \n",
       "2    Electronic accessories      9183.6         4   1836.72   38571.12   \n",
       "3         Sports and travel     33739.2         6  10121.76  212556.96   \n",
       "4        Home and lifestyle     14508.0         2   1450.80   30466.80   \n",
       "..                      ...         ...       ...       ...        ...   \n",
       "995       Health and beauty     35985.6         7  12594.96  264494.16   \n",
       "996  Electronic accessories     34693.2         7  12142.62  254995.02   \n",
       "997  Electronic accessories     29642.4        10  14821.20  311245.20   \n",
       "998  Electronic accessories     21942.0         1   1097.10   23039.10   \n",
       "999       Health and beauty     14526.0         1    726.30   15252.30   \n",
       "\n",
       "          Date   Time Payment      cogs  gross margin percentage  \\\n",
       "0    2/20/2019  13:27    Card   59227.2                 4.761905   \n",
       "1     2/6/2019  18:07    Epay   20851.2                 4.761905   \n",
       "2     3/9/2019  17:03    Cash   36734.4                 4.761905   \n",
       "3    1/15/2019  16:19    Cash  202435.2                 4.761905   \n",
       "4    3/11/2019  15:30    Epay   29016.0                 4.761905   \n",
       "..         ...    ...     ...       ...                      ...   \n",
       "995  1/23/2019  10:33    Cash  251899.2                 4.761905   \n",
       "996   1/9/2019  11:40    Cash  242852.4                 4.761905   \n",
       "997  3/29/2019  19:12    Epay  296424.0                 4.761905   \n",
       "998  2/18/2019  11:40    Epay   21942.0                 4.761905   \n",
       "999  1/29/2019  13:46    Epay   14526.0                 4.761905   \n",
       "\n",
       "     gross income  Rating  \n",
       "0         2961.36     5.9  \n",
       "1         1042.56     4.5  \n",
       "2         1836.72     6.8  \n",
       "3        10121.76     4.5  \n",
       "4         1450.80     4.4  \n",
       "..            ...     ...  \n",
       "995      12594.96     6.1  \n",
       "996      12142.62     6.0  \n",
       "997      14821.20     4.3  \n",
       "998       1097.10     5.9  \n",
       "999        726.30     6.2  \n",
       "\n",
       "[1000 rows x 17 columns]"
      ]
     },
     "execution_count": 43,
     "metadata": {},
     "output_type": "execute_result"
    }
   ],
   "source": [
    "df"
   ]
  },
  {
   "cell_type": "code",
   "execution_count": 44,
   "metadata": {},
   "outputs": [],
   "source": [
    "#importing libraries\n",
    "\n",
    "import pandas as pd\n",
    "import numpy as np\n",
    "import seaborn as sns\n",
    "import matplotlib.pyplot as plt\n",
    "%matplotlib inline\n",
    "plt.style.use('fivethirtyeight')  \n",
    "import warnings\n",
    "warnings.filterwarnings('ignore')"
   ]
  },
  {
   "cell_type": "code",
   "execution_count": 45,
   "metadata": {},
   "outputs": [],
   "source": [
    "#exporting the combined file to a csv file\n",
    "df.to_csv('All_Branches_csv')"
   ]
  },
  {
   "cell_type": "code",
   "execution_count": 46,
   "metadata": {},
   "outputs": [
    {
     "data": {
      "text/html": [
       "<div>\n",
       "<style scoped>\n",
       "    .dataframe tbody tr th:only-of-type {\n",
       "        vertical-align: middle;\n",
       "    }\n",
       "\n",
       "    .dataframe tbody tr th {\n",
       "        vertical-align: top;\n",
       "    }\n",
       "\n",
       "    .dataframe thead th {\n",
       "        text-align: right;\n",
       "    }\n",
       "</style>\n",
       "<table border=\"1\" class=\"dataframe\">\n",
       "  <thead>\n",
       "    <tr style=\"text-align: right;\">\n",
       "      <th></th>\n",
       "      <th>Unnamed: 0</th>\n",
       "      <th>Invoice ID</th>\n",
       "      <th>Branch</th>\n",
       "      <th>City</th>\n",
       "      <th>Customer type</th>\n",
       "      <th>Gender</th>\n",
       "      <th>Product line</th>\n",
       "      <th>Unit price</th>\n",
       "      <th>Quantity</th>\n",
       "      <th>Tax 5%</th>\n",
       "      <th>Total</th>\n",
       "      <th>Date</th>\n",
       "      <th>Time</th>\n",
       "      <th>Payment</th>\n",
       "      <th>cogs</th>\n",
       "      <th>gross margin percentage</th>\n",
       "      <th>gross income</th>\n",
       "      <th>Rating</th>\n",
       "    </tr>\n",
       "  </thead>\n",
       "  <tbody>\n",
       "    <tr>\n",
       "      <th>0</th>\n",
       "      <td>0</td>\n",
       "      <td>692-92-5582</td>\n",
       "      <td>B</td>\n",
       "      <td>Abuja</td>\n",
       "      <td>Member</td>\n",
       "      <td>Female</td>\n",
       "      <td>Food and beverages</td>\n",
       "      <td>19742.4</td>\n",
       "      <td>3</td>\n",
       "      <td>2961.36</td>\n",
       "      <td>62188.56</td>\n",
       "      <td>2/20/2019</td>\n",
       "      <td>13:27</td>\n",
       "      <td>Card</td>\n",
       "      <td>59227.2</td>\n",
       "      <td>4.761905</td>\n",
       "      <td>2961.36</td>\n",
       "      <td>5.9</td>\n",
       "    </tr>\n",
       "    <tr>\n",
       "      <th>1</th>\n",
       "      <td>1</td>\n",
       "      <td>351-62-0822</td>\n",
       "      <td>B</td>\n",
       "      <td>Abuja</td>\n",
       "      <td>Member</td>\n",
       "      <td>Female</td>\n",
       "      <td>Fashion accessories</td>\n",
       "      <td>5212.8</td>\n",
       "      <td>4</td>\n",
       "      <td>1042.56</td>\n",
       "      <td>21893.76</td>\n",
       "      <td>2/6/2019</td>\n",
       "      <td>18:07</td>\n",
       "      <td>Epay</td>\n",
       "      <td>20851.2</td>\n",
       "      <td>4.761905</td>\n",
       "      <td>1042.56</td>\n",
       "      <td>4.5</td>\n",
       "    </tr>\n",
       "    <tr>\n",
       "      <th>2</th>\n",
       "      <td>2</td>\n",
       "      <td>529-56-3974</td>\n",
       "      <td>B</td>\n",
       "      <td>Abuja</td>\n",
       "      <td>Member</td>\n",
       "      <td>Male</td>\n",
       "      <td>Electronic accessories</td>\n",
       "      <td>9183.6</td>\n",
       "      <td>4</td>\n",
       "      <td>1836.72</td>\n",
       "      <td>38571.12</td>\n",
       "      <td>3/9/2019</td>\n",
       "      <td>17:03</td>\n",
       "      <td>Cash</td>\n",
       "      <td>36734.4</td>\n",
       "      <td>4.761905</td>\n",
       "      <td>1836.72</td>\n",
       "      <td>6.8</td>\n",
       "    </tr>\n",
       "    <tr>\n",
       "      <th>3</th>\n",
       "      <td>3</td>\n",
       "      <td>299-46-1805</td>\n",
       "      <td>B</td>\n",
       "      <td>Abuja</td>\n",
       "      <td>Member</td>\n",
       "      <td>Female</td>\n",
       "      <td>Sports and travel</td>\n",
       "      <td>33739.2</td>\n",
       "      <td>6</td>\n",
       "      <td>10121.76</td>\n",
       "      <td>212556.96</td>\n",
       "      <td>1/15/2019</td>\n",
       "      <td>16:19</td>\n",
       "      <td>Cash</td>\n",
       "      <td>202435.2</td>\n",
       "      <td>4.761905</td>\n",
       "      <td>10121.76</td>\n",
       "      <td>4.5</td>\n",
       "    </tr>\n",
       "    <tr>\n",
       "      <th>4</th>\n",
       "      <td>4</td>\n",
       "      <td>319-50-3348</td>\n",
       "      <td>B</td>\n",
       "      <td>Abuja</td>\n",
       "      <td>Normal</td>\n",
       "      <td>Female</td>\n",
       "      <td>Home and lifestyle</td>\n",
       "      <td>14508.0</td>\n",
       "      <td>2</td>\n",
       "      <td>1450.80</td>\n",
       "      <td>30466.80</td>\n",
       "      <td>3/11/2019</td>\n",
       "      <td>15:30</td>\n",
       "      <td>Epay</td>\n",
       "      <td>29016.0</td>\n",
       "      <td>4.761905</td>\n",
       "      <td>1450.80</td>\n",
       "      <td>4.4</td>\n",
       "    </tr>\n",
       "  </tbody>\n",
       "</table>\n",
       "</div>"
      ],
      "text/plain": [
       "   Unnamed: 0   Invoice ID Branch   City Customer type  Gender  \\\n",
       "0           0  692-92-5582      B  Abuja        Member  Female   \n",
       "1           1  351-62-0822      B  Abuja        Member  Female   \n",
       "2           2  529-56-3974      B  Abuja        Member    Male   \n",
       "3           3  299-46-1805      B  Abuja        Member  Female   \n",
       "4           4  319-50-3348      B  Abuja        Normal  Female   \n",
       "\n",
       "             Product line  Unit price  Quantity    Tax 5%      Total  \\\n",
       "0      Food and beverages     19742.4         3   2961.36   62188.56   \n",
       "1     Fashion accessories      5212.8         4   1042.56   21893.76   \n",
       "2  Electronic accessories      9183.6         4   1836.72   38571.12   \n",
       "3       Sports and travel     33739.2         6  10121.76  212556.96   \n",
       "4      Home and lifestyle     14508.0         2   1450.80   30466.80   \n",
       "\n",
       "        Date   Time Payment      cogs  gross margin percentage  gross income  \\\n",
       "0  2/20/2019  13:27    Card   59227.2                 4.761905       2961.36   \n",
       "1   2/6/2019  18:07    Epay   20851.2                 4.761905       1042.56   \n",
       "2   3/9/2019  17:03    Cash   36734.4                 4.761905       1836.72   \n",
       "3  1/15/2019  16:19    Cash  202435.2                 4.761905      10121.76   \n",
       "4  3/11/2019  15:30    Epay   29016.0                 4.761905       1450.80   \n",
       "\n",
       "   Rating  \n",
       "0     5.9  \n",
       "1     4.5  \n",
       "2     6.8  \n",
       "3     4.5  \n",
       "4     4.4  "
      ]
     },
     "execution_count": 46,
     "metadata": {},
     "output_type": "execute_result"
    }
   ],
   "source": [
    "df = pd.read_csv(r'C:\\Users\\AkinadeAbiodun\\Documents\\Data-Analysis-Project\\All_Branches_csv')\n",
    "df.head()"
   ]
  },
  {
   "cell_type": "code",
   "execution_count": 47,
   "metadata": {},
   "outputs": [
    {
     "data": {
      "text/plain": [
       "(1000, 18)"
      ]
     },
     "execution_count": 47,
     "metadata": {},
     "output_type": "execute_result"
    }
   ],
   "source": [
    "#checking number of rows and columns\n",
    "df.shape"
   ]
  },
  {
   "cell_type": "code",
   "execution_count": 48,
   "metadata": {},
   "outputs": [
    {
     "data": {
      "text/plain": [
       "Index(['Unnamed: 0', 'Invoice ID', 'Branch', 'City', 'Customer type', 'Gender',\n",
       "       'Product line', 'Unit price', 'Quantity', 'Tax 5%', 'Total', 'Date',\n",
       "       'Time', 'Payment', 'cogs', 'gross margin percentage', 'gross income',\n",
       "       'Rating'],\n",
       "      dtype='object')"
      ]
     },
     "execution_count": 48,
     "metadata": {},
     "output_type": "execute_result"
    }
   ],
   "source": [
    "df.columns"
   ]
  },
  {
   "cell_type": "code",
   "execution_count": 49,
   "metadata": {},
   "outputs": [
    {
     "data": {
      "text/html": [
       "<div>\n",
       "<style scoped>\n",
       "    .dataframe tbody tr th:only-of-type {\n",
       "        vertical-align: middle;\n",
       "    }\n",
       "\n",
       "    .dataframe tbody tr th {\n",
       "        vertical-align: top;\n",
       "    }\n",
       "\n",
       "    .dataframe thead th {\n",
       "        text-align: right;\n",
       "    }\n",
       "</style>\n",
       "<table border=\"1\" class=\"dataframe\">\n",
       "  <thead>\n",
       "    <tr style=\"text-align: right;\">\n",
       "      <th></th>\n",
       "      <th>Unnamed: 0</th>\n",
       "      <th>Unit price</th>\n",
       "      <th>Quantity</th>\n",
       "      <th>Tax 5%</th>\n",
       "      <th>Total</th>\n",
       "      <th>cogs</th>\n",
       "      <th>gross margin percentage</th>\n",
       "      <th>gross income</th>\n",
       "      <th>Rating</th>\n",
       "    </tr>\n",
       "  </thead>\n",
       "  <tbody>\n",
       "    <tr>\n",
       "      <th>count</th>\n",
       "      <td>1000.000000</td>\n",
       "      <td>1000.000000</td>\n",
       "      <td>1000.000000</td>\n",
       "      <td>1000.000000</td>\n",
       "      <td>1000.000000</td>\n",
       "      <td>1000.000000</td>\n",
       "      <td>1000.000000</td>\n",
       "      <td>1000.000000</td>\n",
       "      <td>1000.00000</td>\n",
       "    </tr>\n",
       "    <tr>\n",
       "      <th>mean</th>\n",
       "      <td>499.500000</td>\n",
       "      <td>20041.966800</td>\n",
       "      <td>5.510000</td>\n",
       "      <td>5536.572840</td>\n",
       "      <td>116268.029640</td>\n",
       "      <td>110731.456800</td>\n",
       "      <td>4.761905</td>\n",
       "      <td>5536.572840</td>\n",
       "      <td>6.97270</td>\n",
       "    </tr>\n",
       "    <tr>\n",
       "      <th>std</th>\n",
       "      <td>288.819436</td>\n",
       "      <td>9538.066205</td>\n",
       "      <td>2.923431</td>\n",
       "      <td>4215.177173</td>\n",
       "      <td>88518.720636</td>\n",
       "      <td>84303.543463</td>\n",
       "      <td>0.000000</td>\n",
       "      <td>4215.177173</td>\n",
       "      <td>1.71858</td>\n",
       "    </tr>\n",
       "    <tr>\n",
       "      <th>min</th>\n",
       "      <td>0.000000</td>\n",
       "      <td>3628.800000</td>\n",
       "      <td>1.000000</td>\n",
       "      <td>183.060000</td>\n",
       "      <td>3844.260000</td>\n",
       "      <td>3661.200000</td>\n",
       "      <td>4.761905</td>\n",
       "      <td>183.060000</td>\n",
       "      <td>4.00000</td>\n",
       "    </tr>\n",
       "    <tr>\n",
       "      <th>25%</th>\n",
       "      <td>249.750000</td>\n",
       "      <td>11835.000000</td>\n",
       "      <td>3.000000</td>\n",
       "      <td>2132.955000</td>\n",
       "      <td>44792.055000</td>\n",
       "      <td>42659.100000</td>\n",
       "      <td>4.761905</td>\n",
       "      <td>2132.955000</td>\n",
       "      <td>5.50000</td>\n",
       "    </tr>\n",
       "    <tr>\n",
       "      <th>50%</th>\n",
       "      <td>499.500000</td>\n",
       "      <td>19882.800000</td>\n",
       "      <td>5.000000</td>\n",
       "      <td>4351.680000</td>\n",
       "      <td>91385.280000</td>\n",
       "      <td>87033.600000</td>\n",
       "      <td>4.761905</td>\n",
       "      <td>4351.680000</td>\n",
       "      <td>7.00000</td>\n",
       "    </tr>\n",
       "    <tr>\n",
       "      <th>75%</th>\n",
       "      <td>749.250000</td>\n",
       "      <td>28056.600000</td>\n",
       "      <td>8.000000</td>\n",
       "      <td>8080.290000</td>\n",
       "      <td>169686.090000</td>\n",
       "      <td>161605.800000</td>\n",
       "      <td>4.761905</td>\n",
       "      <td>8080.290000</td>\n",
       "      <td>8.50000</td>\n",
       "    </tr>\n",
       "    <tr>\n",
       "      <th>max</th>\n",
       "      <td>999.000000</td>\n",
       "      <td>35985.600000</td>\n",
       "      <td>10.000000</td>\n",
       "      <td>17874.000000</td>\n",
       "      <td>375354.000000</td>\n",
       "      <td>357480.000000</td>\n",
       "      <td>4.761905</td>\n",
       "      <td>17874.000000</td>\n",
       "      <td>10.00000</td>\n",
       "    </tr>\n",
       "  </tbody>\n",
       "</table>\n",
       "</div>"
      ],
      "text/plain": [
       "        Unnamed: 0    Unit price     Quantity        Tax 5%          Total  \\\n",
       "count  1000.000000   1000.000000  1000.000000   1000.000000    1000.000000   \n",
       "mean    499.500000  20041.966800     5.510000   5536.572840  116268.029640   \n",
       "std     288.819436   9538.066205     2.923431   4215.177173   88518.720636   \n",
       "min       0.000000   3628.800000     1.000000    183.060000    3844.260000   \n",
       "25%     249.750000  11835.000000     3.000000   2132.955000   44792.055000   \n",
       "50%     499.500000  19882.800000     5.000000   4351.680000   91385.280000   \n",
       "75%     749.250000  28056.600000     8.000000   8080.290000  169686.090000   \n",
       "max     999.000000  35985.600000    10.000000  17874.000000  375354.000000   \n",
       "\n",
       "                cogs  gross margin percentage  gross income      Rating  \n",
       "count    1000.000000              1000.000000   1000.000000  1000.00000  \n",
       "mean   110731.456800                 4.761905   5536.572840     6.97270  \n",
       "std     84303.543463                 0.000000   4215.177173     1.71858  \n",
       "min      3661.200000                 4.761905    183.060000     4.00000  \n",
       "25%     42659.100000                 4.761905   2132.955000     5.50000  \n",
       "50%     87033.600000                 4.761905   4351.680000     7.00000  \n",
       "75%    161605.800000                 4.761905   8080.290000     8.50000  \n",
       "max    357480.000000                 4.761905  17874.000000    10.00000  "
      ]
     },
     "execution_count": 49,
     "metadata": {},
     "output_type": "execute_result"
    }
   ],
   "source": [
    "df.describe()"
   ]
  },
  {
   "cell_type": "markdown",
   "metadata": {},
   "source": [
    "Statistical summarry from the data\n",
    "Average rating is 6.9 which indicates a good customer satisfaction\n",
    "mean inferences:\n",
    " unit price = 20041.966800, quantity = 5.5, total price = 116268.029640, cogs = 110731.456800, gross income = 5536.572840\n",
    "maximum qauntity purchased is 10 with maximum unit price of 35985.6, max total = 375354.000000, max cogs = 357480.000000, max gross income = 17874.000000"
   ]
  },
  {
   "cell_type": "code",
   "execution_count": 50,
   "metadata": {},
   "outputs": [
    {
     "data": {
      "text/plain": [
       "Unnamed: 0                 0\n",
       "Invoice ID                 0\n",
       "Branch                     0\n",
       "City                       0\n",
       "Customer type              0\n",
       "Gender                     0\n",
       "Product line               0\n",
       "Unit price                 0\n",
       "Quantity                   0\n",
       "Tax 5%                     0\n",
       "Total                      0\n",
       "Date                       0\n",
       "Time                       0\n",
       "Payment                    0\n",
       "cogs                       0\n",
       "gross margin percentage    0\n",
       "gross income               0\n",
       "Rating                     0\n",
       "dtype: int64"
      ]
     },
     "execution_count": 50,
     "metadata": {},
     "output_type": "execute_result"
    }
   ],
   "source": [
    "# checking for missing values\n",
    "df.isnull().sum()"
   ]
  },
  {
   "cell_type": "code",
   "execution_count": 51,
   "metadata": {},
   "outputs": [
    {
     "data": {
      "text/plain": [
       "<bound method DataFrame.info of      Unnamed: 0   Invoice ID Branch           City Customer type  Gender  \\\n",
       "0             0  692-92-5582      B          Abuja        Member  Female   \n",
       "1             1  351-62-0822      B          Abuja        Member  Female   \n",
       "2             2  529-56-3974      B          Abuja        Member    Male   \n",
       "3             3  299-46-1805      B          Abuja        Member  Female   \n",
       "4             4  319-50-3348      B          Abuja        Normal  Female   \n",
       "..          ...          ...    ...            ...           ...     ...   \n",
       "995         995  148-41-7930      C  Port Harcourt        Normal    Male   \n",
       "996         996  189-40-5216      C  Port Harcourt        Normal    Male   \n",
       "997         997  267-62-7380      C  Port Harcourt        Member    Male   \n",
       "998         998  652-49-6720      C  Port Harcourt        Member  Female   \n",
       "999         999  233-67-5758      C  Port Harcourt        Normal    Male   \n",
       "\n",
       "               Product line  Unit price  Quantity    Tax 5%      Total  \\\n",
       "0        Food and beverages     19742.4         3   2961.36   62188.56   \n",
       "1       Fashion accessories      5212.8         4   1042.56   21893.76   \n",
       "2    Electronic accessories      9183.6         4   1836.72   38571.12   \n",
       "3         Sports and travel     33739.2         6  10121.76  212556.96   \n",
       "4        Home and lifestyle     14508.0         2   1450.80   30466.80   \n",
       "..                      ...         ...       ...       ...        ...   \n",
       "995       Health and beauty     35985.6         7  12594.96  264494.16   \n",
       "996  Electronic accessories     34693.2         7  12142.62  254995.02   \n",
       "997  Electronic accessories     29642.4        10  14821.20  311245.20   \n",
       "998  Electronic accessories     21942.0         1   1097.10   23039.10   \n",
       "999       Health and beauty     14526.0         1    726.30   15252.30   \n",
       "\n",
       "          Date   Time Payment      cogs  gross margin percentage  \\\n",
       "0    2/20/2019  13:27    Card   59227.2                 4.761905   \n",
       "1     2/6/2019  18:07    Epay   20851.2                 4.761905   \n",
       "2     3/9/2019  17:03    Cash   36734.4                 4.761905   \n",
       "3    1/15/2019  16:19    Cash  202435.2                 4.761905   \n",
       "4    3/11/2019  15:30    Epay   29016.0                 4.761905   \n",
       "..         ...    ...     ...       ...                      ...   \n",
       "995  1/23/2019  10:33    Cash  251899.2                 4.761905   \n",
       "996   1/9/2019  11:40    Cash  242852.4                 4.761905   \n",
       "997  3/29/2019  19:12    Epay  296424.0                 4.761905   \n",
       "998  2/18/2019  11:40    Epay   21942.0                 4.761905   \n",
       "999  1/29/2019  13:46    Epay   14526.0                 4.761905   \n",
       "\n",
       "     gross income  Rating  \n",
       "0         2961.36     5.9  \n",
       "1         1042.56     4.5  \n",
       "2         1836.72     6.8  \n",
       "3        10121.76     4.5  \n",
       "4         1450.80     4.4  \n",
       "..            ...     ...  \n",
       "995      12594.96     6.1  \n",
       "996      12142.62     6.0  \n",
       "997      14821.20     4.3  \n",
       "998       1097.10     5.9  \n",
       "999        726.30     6.2  \n",
       "\n",
       "[1000 rows x 18 columns]>"
      ]
     },
     "execution_count": 51,
     "metadata": {},
     "output_type": "execute_result"
    }
   ],
   "source": [
    "df.info"
   ]
  },
  {
   "cell_type": "code",
   "execution_count": 54,
   "metadata": {},
   "outputs": [],
   "source": [
    "df['Date'] = pd.to_datetime(df['Date'])\n",
    "df['Time'] = pd.to_datetime(df['Time'])"
   ]
  },
  {
   "cell_type": "code",
   "execution_count": 55,
   "metadata": {},
   "outputs": [
    {
     "data": {
      "text/html": [
       "<div>\n",
       "<style scoped>\n",
       "    .dataframe tbody tr th:only-of-type {\n",
       "        vertical-align: middle;\n",
       "    }\n",
       "\n",
       "    .dataframe tbody tr th {\n",
       "        vertical-align: top;\n",
       "    }\n",
       "\n",
       "    .dataframe thead th {\n",
       "        text-align: right;\n",
       "    }\n",
       "</style>\n",
       "<table border=\"1\" class=\"dataframe\">\n",
       "  <thead>\n",
       "    <tr style=\"text-align: right;\">\n",
       "      <th></th>\n",
       "      <th>Unnamed: 0</th>\n",
       "      <th>Invoice ID</th>\n",
       "      <th>Branch</th>\n",
       "      <th>City</th>\n",
       "      <th>Customer type</th>\n",
       "      <th>Gender</th>\n",
       "      <th>Product line</th>\n",
       "      <th>Unit price</th>\n",
       "      <th>Quantity</th>\n",
       "      <th>Tax 5%</th>\n",
       "      <th>Total</th>\n",
       "      <th>Date</th>\n",
       "      <th>Time</th>\n",
       "      <th>Payment</th>\n",
       "      <th>cogs</th>\n",
       "      <th>gross margin percentage</th>\n",
       "      <th>gross income</th>\n",
       "      <th>Rating</th>\n",
       "    </tr>\n",
       "  </thead>\n",
       "  <tbody>\n",
       "    <tr>\n",
       "      <th>0</th>\n",
       "      <td>0</td>\n",
       "      <td>692-92-5582</td>\n",
       "      <td>B</td>\n",
       "      <td>Abuja</td>\n",
       "      <td>Member</td>\n",
       "      <td>Female</td>\n",
       "      <td>Food and beverages</td>\n",
       "      <td>19742.4</td>\n",
       "      <td>3</td>\n",
       "      <td>2961.36</td>\n",
       "      <td>62188.56</td>\n",
       "      <td>2019-02-20</td>\n",
       "      <td>2022-02-24 13:27:00</td>\n",
       "      <td>Card</td>\n",
       "      <td>59227.2</td>\n",
       "      <td>4.761905</td>\n",
       "      <td>2961.36</td>\n",
       "      <td>5.9</td>\n",
       "    </tr>\n",
       "    <tr>\n",
       "      <th>1</th>\n",
       "      <td>1</td>\n",
       "      <td>351-62-0822</td>\n",
       "      <td>B</td>\n",
       "      <td>Abuja</td>\n",
       "      <td>Member</td>\n",
       "      <td>Female</td>\n",
       "      <td>Fashion accessories</td>\n",
       "      <td>5212.8</td>\n",
       "      <td>4</td>\n",
       "      <td>1042.56</td>\n",
       "      <td>21893.76</td>\n",
       "      <td>2019-02-06</td>\n",
       "      <td>2022-02-24 18:07:00</td>\n",
       "      <td>Epay</td>\n",
       "      <td>20851.2</td>\n",
       "      <td>4.761905</td>\n",
       "      <td>1042.56</td>\n",
       "      <td>4.5</td>\n",
       "    </tr>\n",
       "    <tr>\n",
       "      <th>2</th>\n",
       "      <td>2</td>\n",
       "      <td>529-56-3974</td>\n",
       "      <td>B</td>\n",
       "      <td>Abuja</td>\n",
       "      <td>Member</td>\n",
       "      <td>Male</td>\n",
       "      <td>Electronic accessories</td>\n",
       "      <td>9183.6</td>\n",
       "      <td>4</td>\n",
       "      <td>1836.72</td>\n",
       "      <td>38571.12</td>\n",
       "      <td>2019-03-09</td>\n",
       "      <td>2022-02-24 17:03:00</td>\n",
       "      <td>Cash</td>\n",
       "      <td>36734.4</td>\n",
       "      <td>4.761905</td>\n",
       "      <td>1836.72</td>\n",
       "      <td>6.8</td>\n",
       "    </tr>\n",
       "    <tr>\n",
       "      <th>3</th>\n",
       "      <td>3</td>\n",
       "      <td>299-46-1805</td>\n",
       "      <td>B</td>\n",
       "      <td>Abuja</td>\n",
       "      <td>Member</td>\n",
       "      <td>Female</td>\n",
       "      <td>Sports and travel</td>\n",
       "      <td>33739.2</td>\n",
       "      <td>6</td>\n",
       "      <td>10121.76</td>\n",
       "      <td>212556.96</td>\n",
       "      <td>2019-01-15</td>\n",
       "      <td>2022-02-24 16:19:00</td>\n",
       "      <td>Cash</td>\n",
       "      <td>202435.2</td>\n",
       "      <td>4.761905</td>\n",
       "      <td>10121.76</td>\n",
       "      <td>4.5</td>\n",
       "    </tr>\n",
       "    <tr>\n",
       "      <th>4</th>\n",
       "      <td>4</td>\n",
       "      <td>319-50-3348</td>\n",
       "      <td>B</td>\n",
       "      <td>Abuja</td>\n",
       "      <td>Normal</td>\n",
       "      <td>Female</td>\n",
       "      <td>Home and lifestyle</td>\n",
       "      <td>14508.0</td>\n",
       "      <td>2</td>\n",
       "      <td>1450.80</td>\n",
       "      <td>30466.80</td>\n",
       "      <td>2019-03-11</td>\n",
       "      <td>2022-02-24 15:30:00</td>\n",
       "      <td>Epay</td>\n",
       "      <td>29016.0</td>\n",
       "      <td>4.761905</td>\n",
       "      <td>1450.80</td>\n",
       "      <td>4.4</td>\n",
       "    </tr>\n",
       "    <tr>\n",
       "      <th>...</th>\n",
       "      <td>...</td>\n",
       "      <td>...</td>\n",
       "      <td>...</td>\n",
       "      <td>...</td>\n",
       "      <td>...</td>\n",
       "      <td>...</td>\n",
       "      <td>...</td>\n",
       "      <td>...</td>\n",
       "      <td>...</td>\n",
       "      <td>...</td>\n",
       "      <td>...</td>\n",
       "      <td>...</td>\n",
       "      <td>...</td>\n",
       "      <td>...</td>\n",
       "      <td>...</td>\n",
       "      <td>...</td>\n",
       "      <td>...</td>\n",
       "      <td>...</td>\n",
       "    </tr>\n",
       "    <tr>\n",
       "      <th>995</th>\n",
       "      <td>995</td>\n",
       "      <td>148-41-7930</td>\n",
       "      <td>C</td>\n",
       "      <td>Port Harcourt</td>\n",
       "      <td>Normal</td>\n",
       "      <td>Male</td>\n",
       "      <td>Health and beauty</td>\n",
       "      <td>35985.6</td>\n",
       "      <td>7</td>\n",
       "      <td>12594.96</td>\n",
       "      <td>264494.16</td>\n",
       "      <td>2019-01-23</td>\n",
       "      <td>2022-02-24 10:33:00</td>\n",
       "      <td>Cash</td>\n",
       "      <td>251899.2</td>\n",
       "      <td>4.761905</td>\n",
       "      <td>12594.96</td>\n",
       "      <td>6.1</td>\n",
       "    </tr>\n",
       "    <tr>\n",
       "      <th>996</th>\n",
       "      <td>996</td>\n",
       "      <td>189-40-5216</td>\n",
       "      <td>C</td>\n",
       "      <td>Port Harcourt</td>\n",
       "      <td>Normal</td>\n",
       "      <td>Male</td>\n",
       "      <td>Electronic accessories</td>\n",
       "      <td>34693.2</td>\n",
       "      <td>7</td>\n",
       "      <td>12142.62</td>\n",
       "      <td>254995.02</td>\n",
       "      <td>2019-01-09</td>\n",
       "      <td>2022-02-24 11:40:00</td>\n",
       "      <td>Cash</td>\n",
       "      <td>242852.4</td>\n",
       "      <td>4.761905</td>\n",
       "      <td>12142.62</td>\n",
       "      <td>6.0</td>\n",
       "    </tr>\n",
       "    <tr>\n",
       "      <th>997</th>\n",
       "      <td>997</td>\n",
       "      <td>267-62-7380</td>\n",
       "      <td>C</td>\n",
       "      <td>Port Harcourt</td>\n",
       "      <td>Member</td>\n",
       "      <td>Male</td>\n",
       "      <td>Electronic accessories</td>\n",
       "      <td>29642.4</td>\n",
       "      <td>10</td>\n",
       "      <td>14821.20</td>\n",
       "      <td>311245.20</td>\n",
       "      <td>2019-03-29</td>\n",
       "      <td>2022-02-24 19:12:00</td>\n",
       "      <td>Epay</td>\n",
       "      <td>296424.0</td>\n",
       "      <td>4.761905</td>\n",
       "      <td>14821.20</td>\n",
       "      <td>4.3</td>\n",
       "    </tr>\n",
       "    <tr>\n",
       "      <th>998</th>\n",
       "      <td>998</td>\n",
       "      <td>652-49-6720</td>\n",
       "      <td>C</td>\n",
       "      <td>Port Harcourt</td>\n",
       "      <td>Member</td>\n",
       "      <td>Female</td>\n",
       "      <td>Electronic accessories</td>\n",
       "      <td>21942.0</td>\n",
       "      <td>1</td>\n",
       "      <td>1097.10</td>\n",
       "      <td>23039.10</td>\n",
       "      <td>2019-02-18</td>\n",
       "      <td>2022-02-24 11:40:00</td>\n",
       "      <td>Epay</td>\n",
       "      <td>21942.0</td>\n",
       "      <td>4.761905</td>\n",
       "      <td>1097.10</td>\n",
       "      <td>5.9</td>\n",
       "    </tr>\n",
       "    <tr>\n",
       "      <th>999</th>\n",
       "      <td>999</td>\n",
       "      <td>233-67-5758</td>\n",
       "      <td>C</td>\n",
       "      <td>Port Harcourt</td>\n",
       "      <td>Normal</td>\n",
       "      <td>Male</td>\n",
       "      <td>Health and beauty</td>\n",
       "      <td>14526.0</td>\n",
       "      <td>1</td>\n",
       "      <td>726.30</td>\n",
       "      <td>15252.30</td>\n",
       "      <td>2019-01-29</td>\n",
       "      <td>2022-02-24 13:46:00</td>\n",
       "      <td>Epay</td>\n",
       "      <td>14526.0</td>\n",
       "      <td>4.761905</td>\n",
       "      <td>726.30</td>\n",
       "      <td>6.2</td>\n",
       "    </tr>\n",
       "  </tbody>\n",
       "</table>\n",
       "<p>1000 rows × 18 columns</p>\n",
       "</div>"
      ],
      "text/plain": [
       "     Unnamed: 0   Invoice ID Branch           City Customer type  Gender  \\\n",
       "0             0  692-92-5582      B          Abuja        Member  Female   \n",
       "1             1  351-62-0822      B          Abuja        Member  Female   \n",
       "2             2  529-56-3974      B          Abuja        Member    Male   \n",
       "3             3  299-46-1805      B          Abuja        Member  Female   \n",
       "4             4  319-50-3348      B          Abuja        Normal  Female   \n",
       "..          ...          ...    ...            ...           ...     ...   \n",
       "995         995  148-41-7930      C  Port Harcourt        Normal    Male   \n",
       "996         996  189-40-5216      C  Port Harcourt        Normal    Male   \n",
       "997         997  267-62-7380      C  Port Harcourt        Member    Male   \n",
       "998         998  652-49-6720      C  Port Harcourt        Member  Female   \n",
       "999         999  233-67-5758      C  Port Harcourt        Normal    Male   \n",
       "\n",
       "               Product line  Unit price  Quantity    Tax 5%      Total  \\\n",
       "0        Food and beverages     19742.4         3   2961.36   62188.56   \n",
       "1       Fashion accessories      5212.8         4   1042.56   21893.76   \n",
       "2    Electronic accessories      9183.6         4   1836.72   38571.12   \n",
       "3         Sports and travel     33739.2         6  10121.76  212556.96   \n",
       "4        Home and lifestyle     14508.0         2   1450.80   30466.80   \n",
       "..                      ...         ...       ...       ...        ...   \n",
       "995       Health and beauty     35985.6         7  12594.96  264494.16   \n",
       "996  Electronic accessories     34693.2         7  12142.62  254995.02   \n",
       "997  Electronic accessories     29642.4        10  14821.20  311245.20   \n",
       "998  Electronic accessories     21942.0         1   1097.10   23039.10   \n",
       "999       Health and beauty     14526.0         1    726.30   15252.30   \n",
       "\n",
       "          Date                Time Payment      cogs  gross margin percentage  \\\n",
       "0   2019-02-20 2022-02-24 13:27:00    Card   59227.2                 4.761905   \n",
       "1   2019-02-06 2022-02-24 18:07:00    Epay   20851.2                 4.761905   \n",
       "2   2019-03-09 2022-02-24 17:03:00    Cash   36734.4                 4.761905   \n",
       "3   2019-01-15 2022-02-24 16:19:00    Cash  202435.2                 4.761905   \n",
       "4   2019-03-11 2022-02-24 15:30:00    Epay   29016.0                 4.761905   \n",
       "..         ...                 ...     ...       ...                      ...   \n",
       "995 2019-01-23 2022-02-24 10:33:00    Cash  251899.2                 4.761905   \n",
       "996 2019-01-09 2022-02-24 11:40:00    Cash  242852.4                 4.761905   \n",
       "997 2019-03-29 2022-02-24 19:12:00    Epay  296424.0                 4.761905   \n",
       "998 2019-02-18 2022-02-24 11:40:00    Epay   21942.0                 4.761905   \n",
       "999 2019-01-29 2022-02-24 13:46:00    Epay   14526.0                 4.761905   \n",
       "\n",
       "     gross income  Rating  \n",
       "0         2961.36     5.9  \n",
       "1         1042.56     4.5  \n",
       "2         1836.72     6.8  \n",
       "3        10121.76     4.5  \n",
       "4         1450.80     4.4  \n",
       "..            ...     ...  \n",
       "995      12594.96     6.1  \n",
       "996      12142.62     6.0  \n",
       "997      14821.20     4.3  \n",
       "998       1097.10     5.9  \n",
       "999        726.30     6.2  \n",
       "\n",
       "[1000 rows x 18 columns]"
      ]
     },
     "execution_count": 55,
     "metadata": {},
     "output_type": "execute_result"
    }
   ],
   "source": [
    "df"
   ]
  },
  {
   "cell_type": "code",
   "execution_count": 57,
   "metadata": {},
   "outputs": [],
   "source": [
    "#Extracting features from the date and time\n",
    "df['Day'] = df['Date'].dt.day"
   ]
  },
  {
   "cell_type": "code",
   "execution_count": 58,
   "metadata": {},
   "outputs": [],
   "source": [
    "df['Month'] = df['Date'].dt.month"
   ]
  },
  {
   "cell_type": "code",
   "execution_count": 59,
   "metadata": {},
   "outputs": [],
   "source": [
    "df['Year'] = df['Date'].dt.year"
   ]
  },
  {
   "cell_type": "code",
   "execution_count": 61,
   "metadata": {},
   "outputs": [],
   "source": [
    "df['Hour'] = df['Time'].dt.hour"
   ]
  },
  {
   "cell_type": "code",
   "execution_count": 62,
   "metadata": {},
   "outputs": [
    {
     "data": {
      "text/html": [
       "<div>\n",
       "<style scoped>\n",
       "    .dataframe tbody tr th:only-of-type {\n",
       "        vertical-align: middle;\n",
       "    }\n",
       "\n",
       "    .dataframe tbody tr th {\n",
       "        vertical-align: top;\n",
       "    }\n",
       "\n",
       "    .dataframe thead th {\n",
       "        text-align: right;\n",
       "    }\n",
       "</style>\n",
       "<table border=\"1\" class=\"dataframe\">\n",
       "  <thead>\n",
       "    <tr style=\"text-align: right;\">\n",
       "      <th></th>\n",
       "      <th>Unnamed: 0</th>\n",
       "      <th>Invoice ID</th>\n",
       "      <th>Branch</th>\n",
       "      <th>City</th>\n",
       "      <th>Customer type</th>\n",
       "      <th>Gender</th>\n",
       "      <th>Product line</th>\n",
       "      <th>Unit price</th>\n",
       "      <th>Quantity</th>\n",
       "      <th>Tax 5%</th>\n",
       "      <th>...</th>\n",
       "      <th>Time</th>\n",
       "      <th>Payment</th>\n",
       "      <th>cogs</th>\n",
       "      <th>gross margin percentage</th>\n",
       "      <th>gross income</th>\n",
       "      <th>Rating</th>\n",
       "      <th>Day</th>\n",
       "      <th>Month</th>\n",
       "      <th>Year</th>\n",
       "      <th>Hour</th>\n",
       "    </tr>\n",
       "  </thead>\n",
       "  <tbody>\n",
       "    <tr>\n",
       "      <th>0</th>\n",
       "      <td>0</td>\n",
       "      <td>692-92-5582</td>\n",
       "      <td>B</td>\n",
       "      <td>Abuja</td>\n",
       "      <td>Member</td>\n",
       "      <td>Female</td>\n",
       "      <td>Food and beverages</td>\n",
       "      <td>19742.4</td>\n",
       "      <td>3</td>\n",
       "      <td>2961.36</td>\n",
       "      <td>...</td>\n",
       "      <td>2022-02-24 13:27:00</td>\n",
       "      <td>Card</td>\n",
       "      <td>59227.2</td>\n",
       "      <td>4.761905</td>\n",
       "      <td>2961.36</td>\n",
       "      <td>5.9</td>\n",
       "      <td>20</td>\n",
       "      <td>2</td>\n",
       "      <td>2019</td>\n",
       "      <td>13</td>\n",
       "    </tr>\n",
       "    <tr>\n",
       "      <th>1</th>\n",
       "      <td>1</td>\n",
       "      <td>351-62-0822</td>\n",
       "      <td>B</td>\n",
       "      <td>Abuja</td>\n",
       "      <td>Member</td>\n",
       "      <td>Female</td>\n",
       "      <td>Fashion accessories</td>\n",
       "      <td>5212.8</td>\n",
       "      <td>4</td>\n",
       "      <td>1042.56</td>\n",
       "      <td>...</td>\n",
       "      <td>2022-02-24 18:07:00</td>\n",
       "      <td>Epay</td>\n",
       "      <td>20851.2</td>\n",
       "      <td>4.761905</td>\n",
       "      <td>1042.56</td>\n",
       "      <td>4.5</td>\n",
       "      <td>6</td>\n",
       "      <td>2</td>\n",
       "      <td>2019</td>\n",
       "      <td>18</td>\n",
       "    </tr>\n",
       "    <tr>\n",
       "      <th>2</th>\n",
       "      <td>2</td>\n",
       "      <td>529-56-3974</td>\n",
       "      <td>B</td>\n",
       "      <td>Abuja</td>\n",
       "      <td>Member</td>\n",
       "      <td>Male</td>\n",
       "      <td>Electronic accessories</td>\n",
       "      <td>9183.6</td>\n",
       "      <td>4</td>\n",
       "      <td>1836.72</td>\n",
       "      <td>...</td>\n",
       "      <td>2022-02-24 17:03:00</td>\n",
       "      <td>Cash</td>\n",
       "      <td>36734.4</td>\n",
       "      <td>4.761905</td>\n",
       "      <td>1836.72</td>\n",
       "      <td>6.8</td>\n",
       "      <td>9</td>\n",
       "      <td>3</td>\n",
       "      <td>2019</td>\n",
       "      <td>17</td>\n",
       "    </tr>\n",
       "    <tr>\n",
       "      <th>3</th>\n",
       "      <td>3</td>\n",
       "      <td>299-46-1805</td>\n",
       "      <td>B</td>\n",
       "      <td>Abuja</td>\n",
       "      <td>Member</td>\n",
       "      <td>Female</td>\n",
       "      <td>Sports and travel</td>\n",
       "      <td>33739.2</td>\n",
       "      <td>6</td>\n",
       "      <td>10121.76</td>\n",
       "      <td>...</td>\n",
       "      <td>2022-02-24 16:19:00</td>\n",
       "      <td>Cash</td>\n",
       "      <td>202435.2</td>\n",
       "      <td>4.761905</td>\n",
       "      <td>10121.76</td>\n",
       "      <td>4.5</td>\n",
       "      <td>15</td>\n",
       "      <td>1</td>\n",
       "      <td>2019</td>\n",
       "      <td>16</td>\n",
       "    </tr>\n",
       "    <tr>\n",
       "      <th>4</th>\n",
       "      <td>4</td>\n",
       "      <td>319-50-3348</td>\n",
       "      <td>B</td>\n",
       "      <td>Abuja</td>\n",
       "      <td>Normal</td>\n",
       "      <td>Female</td>\n",
       "      <td>Home and lifestyle</td>\n",
       "      <td>14508.0</td>\n",
       "      <td>2</td>\n",
       "      <td>1450.80</td>\n",
       "      <td>...</td>\n",
       "      <td>2022-02-24 15:30:00</td>\n",
       "      <td>Epay</td>\n",
       "      <td>29016.0</td>\n",
       "      <td>4.761905</td>\n",
       "      <td>1450.80</td>\n",
       "      <td>4.4</td>\n",
       "      <td>11</td>\n",
       "      <td>3</td>\n",
       "      <td>2019</td>\n",
       "      <td>15</td>\n",
       "    </tr>\n",
       "    <tr>\n",
       "      <th>...</th>\n",
       "      <td>...</td>\n",
       "      <td>...</td>\n",
       "      <td>...</td>\n",
       "      <td>...</td>\n",
       "      <td>...</td>\n",
       "      <td>...</td>\n",
       "      <td>...</td>\n",
       "      <td>...</td>\n",
       "      <td>...</td>\n",
       "      <td>...</td>\n",
       "      <td>...</td>\n",
       "      <td>...</td>\n",
       "      <td>...</td>\n",
       "      <td>...</td>\n",
       "      <td>...</td>\n",
       "      <td>...</td>\n",
       "      <td>...</td>\n",
       "      <td>...</td>\n",
       "      <td>...</td>\n",
       "      <td>...</td>\n",
       "      <td>...</td>\n",
       "    </tr>\n",
       "    <tr>\n",
       "      <th>995</th>\n",
       "      <td>995</td>\n",
       "      <td>148-41-7930</td>\n",
       "      <td>C</td>\n",
       "      <td>Port Harcourt</td>\n",
       "      <td>Normal</td>\n",
       "      <td>Male</td>\n",
       "      <td>Health and beauty</td>\n",
       "      <td>35985.6</td>\n",
       "      <td>7</td>\n",
       "      <td>12594.96</td>\n",
       "      <td>...</td>\n",
       "      <td>2022-02-24 10:33:00</td>\n",
       "      <td>Cash</td>\n",
       "      <td>251899.2</td>\n",
       "      <td>4.761905</td>\n",
       "      <td>12594.96</td>\n",
       "      <td>6.1</td>\n",
       "      <td>23</td>\n",
       "      <td>1</td>\n",
       "      <td>2019</td>\n",
       "      <td>10</td>\n",
       "    </tr>\n",
       "    <tr>\n",
       "      <th>996</th>\n",
       "      <td>996</td>\n",
       "      <td>189-40-5216</td>\n",
       "      <td>C</td>\n",
       "      <td>Port Harcourt</td>\n",
       "      <td>Normal</td>\n",
       "      <td>Male</td>\n",
       "      <td>Electronic accessories</td>\n",
       "      <td>34693.2</td>\n",
       "      <td>7</td>\n",
       "      <td>12142.62</td>\n",
       "      <td>...</td>\n",
       "      <td>2022-02-24 11:40:00</td>\n",
       "      <td>Cash</td>\n",
       "      <td>242852.4</td>\n",
       "      <td>4.761905</td>\n",
       "      <td>12142.62</td>\n",
       "      <td>6.0</td>\n",
       "      <td>9</td>\n",
       "      <td>1</td>\n",
       "      <td>2019</td>\n",
       "      <td>11</td>\n",
       "    </tr>\n",
       "    <tr>\n",
       "      <th>997</th>\n",
       "      <td>997</td>\n",
       "      <td>267-62-7380</td>\n",
       "      <td>C</td>\n",
       "      <td>Port Harcourt</td>\n",
       "      <td>Member</td>\n",
       "      <td>Male</td>\n",
       "      <td>Electronic accessories</td>\n",
       "      <td>29642.4</td>\n",
       "      <td>10</td>\n",
       "      <td>14821.20</td>\n",
       "      <td>...</td>\n",
       "      <td>2022-02-24 19:12:00</td>\n",
       "      <td>Epay</td>\n",
       "      <td>296424.0</td>\n",
       "      <td>4.761905</td>\n",
       "      <td>14821.20</td>\n",
       "      <td>4.3</td>\n",
       "      <td>29</td>\n",
       "      <td>3</td>\n",
       "      <td>2019</td>\n",
       "      <td>19</td>\n",
       "    </tr>\n",
       "    <tr>\n",
       "      <th>998</th>\n",
       "      <td>998</td>\n",
       "      <td>652-49-6720</td>\n",
       "      <td>C</td>\n",
       "      <td>Port Harcourt</td>\n",
       "      <td>Member</td>\n",
       "      <td>Female</td>\n",
       "      <td>Electronic accessories</td>\n",
       "      <td>21942.0</td>\n",
       "      <td>1</td>\n",
       "      <td>1097.10</td>\n",
       "      <td>...</td>\n",
       "      <td>2022-02-24 11:40:00</td>\n",
       "      <td>Epay</td>\n",
       "      <td>21942.0</td>\n",
       "      <td>4.761905</td>\n",
       "      <td>1097.10</td>\n",
       "      <td>5.9</td>\n",
       "      <td>18</td>\n",
       "      <td>2</td>\n",
       "      <td>2019</td>\n",
       "      <td>11</td>\n",
       "    </tr>\n",
       "    <tr>\n",
       "      <th>999</th>\n",
       "      <td>999</td>\n",
       "      <td>233-67-5758</td>\n",
       "      <td>C</td>\n",
       "      <td>Port Harcourt</td>\n",
       "      <td>Normal</td>\n",
       "      <td>Male</td>\n",
       "      <td>Health and beauty</td>\n",
       "      <td>14526.0</td>\n",
       "      <td>1</td>\n",
       "      <td>726.30</td>\n",
       "      <td>...</td>\n",
       "      <td>2022-02-24 13:46:00</td>\n",
       "      <td>Epay</td>\n",
       "      <td>14526.0</td>\n",
       "      <td>4.761905</td>\n",
       "      <td>726.30</td>\n",
       "      <td>6.2</td>\n",
       "      <td>29</td>\n",
       "      <td>1</td>\n",
       "      <td>2019</td>\n",
       "      <td>13</td>\n",
       "    </tr>\n",
       "  </tbody>\n",
       "</table>\n",
       "<p>1000 rows × 22 columns</p>\n",
       "</div>"
      ],
      "text/plain": [
       "     Unnamed: 0   Invoice ID Branch           City Customer type  Gender  \\\n",
       "0             0  692-92-5582      B          Abuja        Member  Female   \n",
       "1             1  351-62-0822      B          Abuja        Member  Female   \n",
       "2             2  529-56-3974      B          Abuja        Member    Male   \n",
       "3             3  299-46-1805      B          Abuja        Member  Female   \n",
       "4             4  319-50-3348      B          Abuja        Normal  Female   \n",
       "..          ...          ...    ...            ...           ...     ...   \n",
       "995         995  148-41-7930      C  Port Harcourt        Normal    Male   \n",
       "996         996  189-40-5216      C  Port Harcourt        Normal    Male   \n",
       "997         997  267-62-7380      C  Port Harcourt        Member    Male   \n",
       "998         998  652-49-6720      C  Port Harcourt        Member  Female   \n",
       "999         999  233-67-5758      C  Port Harcourt        Normal    Male   \n",
       "\n",
       "               Product line  Unit price  Quantity    Tax 5%  ...  \\\n",
       "0        Food and beverages     19742.4         3   2961.36  ...   \n",
       "1       Fashion accessories      5212.8         4   1042.56  ...   \n",
       "2    Electronic accessories      9183.6         4   1836.72  ...   \n",
       "3         Sports and travel     33739.2         6  10121.76  ...   \n",
       "4        Home and lifestyle     14508.0         2   1450.80  ...   \n",
       "..                      ...         ...       ...       ...  ...   \n",
       "995       Health and beauty     35985.6         7  12594.96  ...   \n",
       "996  Electronic accessories     34693.2         7  12142.62  ...   \n",
       "997  Electronic accessories     29642.4        10  14821.20  ...   \n",
       "998  Electronic accessories     21942.0         1   1097.10  ...   \n",
       "999       Health and beauty     14526.0         1    726.30  ...   \n",
       "\n",
       "                   Time Payment      cogs gross margin percentage  \\\n",
       "0   2022-02-24 13:27:00    Card   59227.2                4.761905   \n",
       "1   2022-02-24 18:07:00    Epay   20851.2                4.761905   \n",
       "2   2022-02-24 17:03:00    Cash   36734.4                4.761905   \n",
       "3   2022-02-24 16:19:00    Cash  202435.2                4.761905   \n",
       "4   2022-02-24 15:30:00    Epay   29016.0                4.761905   \n",
       "..                  ...     ...       ...                     ...   \n",
       "995 2022-02-24 10:33:00    Cash  251899.2                4.761905   \n",
       "996 2022-02-24 11:40:00    Cash  242852.4                4.761905   \n",
       "997 2022-02-24 19:12:00    Epay  296424.0                4.761905   \n",
       "998 2022-02-24 11:40:00    Epay   21942.0                4.761905   \n",
       "999 2022-02-24 13:46:00    Epay   14526.0                4.761905   \n",
       "\n",
       "     gross income  Rating  Day  Month  Year  Hour  \n",
       "0         2961.36     5.9   20      2  2019    13  \n",
       "1         1042.56     4.5    6      2  2019    18  \n",
       "2         1836.72     6.8    9      3  2019    17  \n",
       "3        10121.76     4.5   15      1  2019    16  \n",
       "4         1450.80     4.4   11      3  2019    15  \n",
       "..            ...     ...  ...    ...   ...   ...  \n",
       "995      12594.96     6.1   23      1  2019    10  \n",
       "996      12142.62     6.0    9      1  2019    11  \n",
       "997      14821.20     4.3   29      3  2019    19  \n",
       "998       1097.10     5.9   18      2  2019    11  \n",
       "999        726.30     6.2   29      1  2019    13  \n",
       "\n",
       "[1000 rows x 22 columns]"
      ]
     },
     "execution_count": 62,
     "metadata": {},
     "output_type": "execute_result"
    }
   ],
   "source": [
    "df"
   ]
  },
  {
   "cell_type": "code",
   "execution_count": 63,
   "metadata": {},
   "outputs": [
    {
     "data": {
      "text/plain": [
       "Unnamed: 0                 1000\n",
       "Invoice ID                 1000\n",
       "Branch                        3\n",
       "City                          3\n",
       "Customer type                 2\n",
       "Gender                        2\n",
       "Product line                  6\n",
       "Unit price                  943\n",
       "Quantity                     10\n",
       "Tax 5%                      990\n",
       "Total                       990\n",
       "Date                         89\n",
       "Time                        506\n",
       "Payment                       3\n",
       "cogs                        990\n",
       "gross margin percentage       1\n",
       "gross income                990\n",
       "Rating                       61\n",
       "Day                          31\n",
       "Month                         3\n",
       "Year                          1\n",
       "Hour                         11\n",
       "dtype: int64"
      ]
     },
     "execution_count": 63,
     "metadata": {},
     "output_type": "execute_result"
    }
   ],
   "source": [
    "df.nunique()"
   ]
  },
  {
   "cell_type": "code",
   "execution_count": 65,
   "metadata": {},
   "outputs": [],
   "source": [
    "# number of unique hours is 11"
   ]
  },
  {
   "cell_type": "code",
   "execution_count": 66,
   "metadata": {},
   "outputs": [
    {
     "data": {
      "text/plain": [
       "['Invoice ID',\n",
       " 'Branch',\n",
       " 'City',\n",
       " 'Customer type',\n",
       " 'Gender',\n",
       " 'Product line',\n",
       " 'Payment']"
      ]
     },
     "execution_count": 66,
     "metadata": {},
     "output_type": "execute_result"
    }
   ],
   "source": [
    "categorical_columns = [col for col in df.columns if df[col].dtype == \"object\" ]\n",
    "categorical_columns"
   ]
  },
  {
   "cell_type": "code",
   "execution_count": 70,
   "metadata": {},
   "outputs": [
    {
     "data": {
      "text/plain": [
       "['Card', 'Epay', 'Cash']"
      ]
     },
     "execution_count": 70,
     "metadata": {},
     "output_type": "execute_result"
    }
   ],
   "source": [
    "df['City'].unique().tolist()\n",
    "df['Customer type'].unique().tolist()\n",
    "df['Gender'].unique().tolist()\n",
    "df['Product line'].unique().tolist()\n",
    "df['Payment'].unique().tolist()"
   ]
  },
  {
   "cell_type": "code",
   "execution_count": 73,
   "metadata": {},
   "outputs": [
    {
     "name": "stdout",
     "output_type": "stream",
     "text": [
      "Total Number of unique values in the City Column : 3\n",
      "Total Number of unique values in the Customer type Column : 2\n",
      "Total Number of unique values in the Gender Column : 2\n",
      "Total Number of unique values in the Product line Column : 6\n",
      "Total Number of unique values in the Payment Column : 3\n"
     ]
    }
   ],
   "source": [
    "print(\"Total Number of unique values in the City Column : {}\". format(len(df['City'].unique().tolist())))\n",
    "print(\"Total Number of unique values in the Customer type Column : {}\". format(len(df['Customer type'].unique().tolist())))\n",
    "print(\"Total Number of unique values in the Gender Column : {}\". format(len(df['Gender'].unique().tolist())))\n",
    "print(\"Total Number of unique values in the Product line Column : {}\". format(len(df['Product line'].unique().tolist())))\n",
    "print(\"Total Number of unique values in the Payment Column : {}\". format(len(df['Payment'].unique().tolist())))"
   ]
  },
  {
   "cell_type": "code",
   "execution_count": null,
   "metadata": {},
   "outputs": [],
   "source": [
    "# Doing a value count for all categorical columns"
   ]
  },
  {
   "cell_type": "code",
   "execution_count": 77,
   "metadata": {},
   "outputs": [
    {
     "data": {
      "text/plain": [
       "Lagos            340\n",
       "Abuja            332\n",
       "Port Harcourt    328\n",
       "Name: City, dtype: int64"
      ]
     },
     "execution_count": 77,
     "metadata": {},
     "output_type": "execute_result"
    }
   ],
   "source": [
    "df['City'].value_counts()\n"
   ]
  },
  {
   "cell_type": "code",
   "execution_count": 76,
   "metadata": {},
   "outputs": [
    {
     "data": {
      "text/plain": [
       "Member    501\n",
       "Normal    499\n",
       "Name: Customer type, dtype: int64"
      ]
     },
     "execution_count": 76,
     "metadata": {},
     "output_type": "execute_result"
    }
   ],
   "source": [
    "df['Customer type'].value_counts()"
   ]
  },
  {
   "cell_type": "code",
   "execution_count": 78,
   "metadata": {},
   "outputs": [
    {
     "data": {
      "text/plain": [
       "Female    501\n",
       "Male      499\n",
       "Name: Gender, dtype: int64"
      ]
     },
     "execution_count": 78,
     "metadata": {},
     "output_type": "execute_result"
    }
   ],
   "source": [
    "df['Gender'].value_counts()"
   ]
  },
  {
   "cell_type": "code",
   "execution_count": 79,
   "metadata": {},
   "outputs": [
    {
     "data": {
      "text/plain": [
       "Fashion accessories       178\n",
       "Food and beverages        174\n",
       "Electronic accessories    170\n",
       "Sports and travel         166\n",
       "Home and lifestyle        160\n",
       "Health and beauty         152\n",
       "Name: Product line, dtype: int64"
      ]
     },
     "execution_count": 79,
     "metadata": {},
     "output_type": "execute_result"
    }
   ],
   "source": [
    "df['Product line'].value_counts()"
   ]
  },
  {
   "cell_type": "code",
   "execution_count": 80,
   "metadata": {},
   "outputs": [
    {
     "data": {
      "text/plain": [
       "Epay    345\n",
       "Cash    344\n",
       "Card    311\n",
       "Name: Payment, dtype: int64"
      ]
     },
     "execution_count": 80,
     "metadata": {},
     "output_type": "execute_result"
    }
   ],
   "source": [
    "df['Payment'].value_counts()"
   ]
  },
  {
   "cell_type": "code",
   "execution_count": 85,
   "metadata": {},
   "outputs": [],
   "source": [
    "cities = df.groupby('City')"
   ]
  },
  {
   "cell_type": "code",
   "execution_count": 87,
   "metadata": {},
   "outputs": [
    {
     "data": {
      "text/plain": [
       "City\n",
       "Abuja            332\n",
       "Lagos            340\n",
       "Port Harcourt    328\n",
       "dtype: int64"
      ]
     },
     "execution_count": 87,
     "metadata": {},
     "output_type": "execute_result"
    }
   ],
   "source": [
    "cities.size()"
   ]
  },
  {
   "cell_type": "code",
   "execution_count": 93,
   "metadata": {},
   "outputs": [],
   "source": [
    "#calculating the gross income of each cities"
   ]
  },
  {
   "cell_type": "code",
   "execution_count": 100,
   "metadata": {},
   "outputs": [
    {
     "data": {
      "text/plain": [
       "1820531.52"
      ]
     },
     "execution_count": 100,
     "metadata": {},
     "output_type": "execute_result"
    }
   ],
   "source": [
    "cities.get_group('Abuja')['gross income'].sum()\n"
   ]
  },
  {
   "cell_type": "code",
   "execution_count": 101,
   "metadata": {},
   "outputs": [
    {
     "data": {
      "text/plain": [
       "5483.528674698795"
      ]
     },
     "execution_count": 101,
     "metadata": {},
     "output_type": "execute_result"
    }
   ],
   "source": [
    "cities.get_group('Abuja')['gross income'].mean()"
   ]
  },
  {
   "cell_type": "code",
   "execution_count": 91,
   "metadata": {},
   "outputs": [
    {
     "data": {
      "text/plain": [
       "1820577.78"
      ]
     },
     "execution_count": 91,
     "metadata": {},
     "output_type": "execute_result"
    }
   ],
   "source": [
    "cities.get_group('Lagos')['gross income'].sum()"
   ]
  },
  {
   "cell_type": "code",
   "execution_count": 102,
   "metadata": {},
   "outputs": [
    {
     "data": {
      "text/plain": [
       "5354.640529411765"
      ]
     },
     "execution_count": 102,
     "metadata": {},
     "output_type": "execute_result"
    }
   ],
   "source": [
    "cities.get_group('Lagos')['gross income'].mean()"
   ]
  },
  {
   "cell_type": "code",
   "execution_count": 92,
   "metadata": {},
   "outputs": [
    {
     "data": {
      "text/plain": [
       "1895463.54"
      ]
     },
     "execution_count": 92,
     "metadata": {},
     "output_type": "execute_result"
    }
   ],
   "source": [
    "cities.get_group('Port Harcourt')['gross income'].sum()"
   ]
  },
  {
   "cell_type": "code",
   "execution_count": 103,
   "metadata": {},
   "outputs": [
    {
     "data": {
      "text/plain": [
       "5778.852256097561"
      ]
     },
     "execution_count": 103,
     "metadata": {},
     "output_type": "execute_result"
    }
   ],
   "source": [
    "cities.get_group('Port Harcourt')['gross income'].mean()"
   ]
  },
  {
   "cell_type": "code",
   "execution_count": null,
   "metadata": {},
   "outputs": [],
   "source": [
    "#city with the highest gross income is  Port Harcourt"
   ]
  },
  {
   "cell_type": "code",
   "execution_count": 104,
   "metadata": {},
   "outputs": [
    {
     "data": {
      "text/plain": [
       "6652396.800000001"
      ]
     },
     "execution_count": 104,
     "metadata": {},
     "output_type": "execute_result"
    }
   ],
   "source": [
    "cities.get_group('Abuja')['Unit price'].sum()"
   ]
  },
  {
   "cell_type": "code",
   "execution_count": 119,
   "metadata": {},
   "outputs": [
    {
     "data": {
      "text/plain": [
       "<AxesSubplot:xlabel='Branch', ylabel='count'>"
      ]
     },
     "execution_count": 119,
     "metadata": {},
     "output_type": "execute_result"
    },
    {
     "data": {
      "image/png": "[encoded data removed]",
      "text/plain": [
       "<Figure size 1080x576 with 1 Axes>"
      ]
     },
     "metadata": {},
     "output_type": "display_data"
    }
   ],
   "source": [
    "# using visualization to determine the branch with the highest sales record\n",
    "plt.figure(figsize=(15,8))\n",
    "sns.countplot(x='Branch', data=df)\n"
   ]
  },
  {
   "cell_type": "code",
   "execution_count": null,
   "metadata": {},
   "outputs": [],
   "source": [
    "# we can Branch A which is Lagos has the highest sales record"
   ]
  },
  {
   "cell_type": "code",
   "execution_count": 118,
   "metadata": {},
   "outputs": [
    {
     "data": {
      "text/plain": [
       "<AxesSubplot:xlabel='Payment', ylabel='count'>"
      ]
     },
     "execution_count": 118,
     "metadata": {},
     "output_type": "execute_result"
    },
    {
     "data": {
      "image/png": "[encoded data removed]",
      "text/plain": [
       "<Figure size 1080x576 with 1 Axes>"
      ]
     },
     "metadata": {},
     "output_type": "display_data"
    }
   ],
   "source": [
    "# count for the most payment method\n",
    "plt.figure(figsize=(15,8))\n",
    "sns.countplot(x='Payment', data=df )\n",
    "# the chart below shows epay has the most used method of payment"
   ]
  },
  {
   "cell_type": "code",
   "execution_count": 110,
   "metadata": {},
   "outputs": [
    {
     "data": {
      "text/plain": [
       "Payment\n",
       "Card    311\n",
       "Cash    344\n",
       "Epay    345\n",
       "dtype: int64"
      ]
     },
     "execution_count": 110,
     "metadata": {},
     "output_type": "execute_result"
    }
   ],
   "source": [
    "payments = df.groupby('Payment')\n",
    "payments.size()"
   ]
  },
  {
   "cell_type": "code",
   "execution_count": 111,
   "metadata": {},
   "outputs": [
    {
     "data": {
      "text/plain": [
       "Product line\n",
       "Electronic accessories    170\n",
       "Fashion accessories       178\n",
       "Food and beverages        174\n",
       "Health and beauty         152\n",
       "Home and lifestyle        160\n",
       "Sports and travel         166\n",
       "dtype: int64"
      ]
     },
     "execution_count": 111,
     "metadata": {},
     "output_type": "execute_result"
    }
   ],
   "source": [
    "product_line = df.groupby('Product line')\n",
    "product_line.size()"
   ]
  },
  {
   "cell_type": "code",
   "execution_count": 120,
   "metadata": {},
   "outputs": [
    {
     "data": {
      "text/plain": [
       "<AxesSubplot:xlabel='count', ylabel='Product line'>"
      ]
     },
     "execution_count": 120,
     "metadata": {},
     "output_type": "execute_result"
    },
    {
     "data": {
      "image/png": "[encoded data removed]",
      "text/plain": [
       "<Figure size 1080x576 with 1 Axes>"
      ]
     },
     "metadata": {},
     "output_type": "display_data"
    }
   ],
   "source": [
    "plt.figure(figsize=(15,8))\n",
    "sns.countplot(y = 'Product line', data = df)"
   ]
  },
  {
   "cell_type": "code",
   "execution_count": null,
   "metadata": {},
   "outputs": [],
   "source": [
    "#the highest sold product line is Fashion accessories\n",
    "#the lowest sold product line is Health and beauty"
   ]
  },
  {
   "cell_type": "code",
   "execution_count": 117,
   "metadata": {},
   "outputs": [
    {
     "data": {
      "text/plain": [
       "<AxesSubplot:xlabel='count', ylabel='Product line'>"
      ]
     },
     "execution_count": 117,
     "metadata": {},
     "output_type": "execute_result"
    },
    {
     "data": {
      "image/png": "[encoded data removed]",
      "text/plain": [
       "<Figure size 1080x576 with 1 Axes>"
      ]
     },
     "metadata": {},
     "output_type": "display_data"
    }
   ],
   "source": [
    "plt.figure(figsize=(15,8))\n",
    "sns.countplot(y = 'Product line', hue = 'Payment', data = df)"
   ]
  },
  {
   "cell_type": "code",
   "execution_count": 121,
   "metadata": {},
   "outputs": [
    {
     "data": {
      "text/plain": [
       "<AxesSubplot:xlabel='Payment', ylabel='count'>"
      ]
     },
     "execution_count": 121,
     "metadata": {},
     "output_type": "execute_result"
    },
    {
     "data": {
      "image/png": "[encoded data removed]",
      "text/plain": [
       "<Figure size 1080x576 with 1 Axes>"
      ]
     },
     "metadata": {},
     "output_type": "display_data"
    }
   ],
   "source": [
    "# to determine the payment channel for each branch\n",
    "plt.figure(figsize=(15,8))\n",
    "sns.countplot(x = 'Payment', hue = 'Branch', data = df)"
   ]
  },
  {
   "cell_type": "code",
   "execution_count": 124,
   "metadata": {},
   "outputs": [
    {
     "data": {
      "text/plain": [
       "<AxesSubplot:xlabel='Branch', ylabel='Rating'>"
      ]
     },
     "execution_count": 124,
     "metadata": {},
     "output_type": "execute_result"
    },
    {
     "data": {
      "image/png": "[encoded data removed]",
      "text/plain": [
       "<Figure size 1080x576 with 1 Axes>"
      ]
     },
     "metadata": {},
     "output_type": "display_data"
    }
   ],
   "source": [
    "plt.figure(figsize=(15,8))\n",
    "sns.boxplot(x='Branch', y='Rating', data=df)"
   ]
  },
  {
   "cell_type": "code",
   "execution_count": 132,
   "metadata": {},
   "outputs": [
    {
     "data": {
      "text/plain": [
       "<seaborn.axisgrid.FacetGrid at 0x171370d06d0>"
      ]
     },
     "execution_count": 132,
     "metadata": {},
     "output_type": "execute_result"
    },
    {
     "data": {
      "text/plain": [
       "<Figure size 1080x576 with 0 Axes>"
      ]
     },
     "metadata": {},
     "output_type": "display_data"
    },
    {
     "data": {
      "image/png": "[encoded data removed]",
      "text/plain": [
       "<Figure size 1541.15x360 with 1 Axes>"
      ]
     },
     "metadata": {},
     "output_type": "display_data"
    }
   ],
   "source": [
    "plt.figure(figsize=(15,8))\n",
    "sns.catplot(x = 'Product line', y = 'Quantity', hue='Gender', data = df,kind='box', aspect=4)"
   ]
  },
  {
   "cell_type": "code",
   "execution_count": 130,
   "metadata": {},
   "outputs": [
    {
     "data": {
      "text/plain": [
       "<seaborn.axisgrid.FacetGrid at 0x17137007fa0>"
      ]
     },
     "execution_count": 130,
     "metadata": {},
     "output_type": "execute_result"
    },
    {
     "data": {
      "text/plain": [
       "<Figure size 1080x576 with 0 Axes>"
      ]
     },
     "metadata": {},
     "output_type": "display_data"
    },
    {
     "data": {
      "image/png": "[encoded data removed]",
      "text/plain": [
       "<Figure size 1541.15x360 with 1 Axes>"
      ]
     },
     "metadata": {},
     "output_type": "display_data"
    }
   ],
   "source": [
    "plt.figure(figsize=(15,8))\n",
    "sns.catplot(x = 'Product line', y = 'Total', hue='Gender', data = df,kind='box', aspect=4)"
   ]
  },
  {
   "cell_type": "code",
   "execution_count": 133,
   "metadata": {},
   "outputs": [],
   "source": [
    "# from the plot we can observe that male customers purchasing food and beverages,home and lifestyle more\n",
    "#we see females purchasing more in fashion accessories, health and beauty\n"
   ]
  },
  {
   "cell_type": "code",
   "execution_count": 135,
   "metadata": {},
   "outputs": [
    {
     "data": {
      "text/plain": [
       "<seaborn.axisgrid.FacetGrid at 0x17137769460>"
      ]
     },
     "execution_count": 135,
     "metadata": {},
     "output_type": "execute_result"
    },
    {
     "data": {
      "text/plain": [
       "<Figure size 1080x576 with 0 Axes>"
      ]
     },
     "metadata": {},
     "output_type": "display_data"
    },
    {
     "data": {
      "image/png": "[encoded data removed]",
      "text/plain": [
       "<Figure size 1440x360 with 1 Axes>"
      ]
     },
     "metadata": {},
     "output_type": "display_data"
    }
   ],
   "source": [
    "plt.figure(figsize=(15,8))\n",
    "sns.catplot(x = 'Product line', y = 'Unit price', data = df,kind='point', aspect=4)"
   ]
  },
  {
   "cell_type": "code",
   "execution_count": 136,
   "metadata": {},
   "outputs": [
    {
     "data": {
      "text/plain": [
       "<seaborn.axisgrid.FacetGrid at 0x17138be2c40>"
      ]
     },
     "execution_count": 136,
     "metadata": {},
     "output_type": "execute_result"
    },
    {
     "data": {
      "text/plain": [
       "<Figure size 1080x576 with 0 Axes>"
      ]
     },
     "metadata": {},
     "output_type": "display_data"
    },
    {
     "data": {
      "image/png": "[encoded data removed]",
      "text/plain": [
       "<Figure size 1440x360 with 1 Axes>"
      ]
     },
     "metadata": {},
     "output_type": "display_data"
    }
   ],
   "source": [
    "plt.figure(figsize=(15,8))\n",
    "sns.catplot(x = 'Product line', y = 'Quantity', data = df,kind='point', aspect=4)"
   ]
  },
  {
   "cell_type": "code",
   "execution_count": null,
   "metadata": {},
   "outputs": [],
   "source": []
  }
 ],
 "metadata": {
  "interpreter": {
   "hash": "3e65053056e0d2e02668b8a9a6fc235211cbbdb254735dc7fad672a8453fba89"
  },
  "kernelspec": {
   "display_name": "Python 3.9.7 ('py3-TF2.0')",
   "language": "python",
   "name": "python3"
  },
  "language_info": {
   "codemirror_mode": {
    "name": "ipython",
    "version": 3
   },
   "file_extension": ".py",
   "mimetype": "text/x-python",
   "name": "python",
   "nbconvert_exporter": "python",
   "pygments_lexer": "ipython3",
   "version": "3.9.7"
  },
  "orig_nbformat": 4
 },
 "nbformat": 4,
 "nbformat_minor": 2
}
